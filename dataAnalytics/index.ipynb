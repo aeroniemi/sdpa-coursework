{
 "cells": [
  {
   "cell_type": "markdown",
   "metadata": {},
   "source": [
    "# A Musical Interlude: Understanding my music tastes\n",
    "\n",
    "- In this project, I will use a combination of my streaming history from Spotify and the Spotify API (using spotipy) to see what interesting things we can learn from it."
   ]
  },
  {
   "cell_type": "markdown",
   "metadata": {},
   "source": [
    "## Requirements\n",
    "- Python (tested with 3.9 and 3.11)\n",
    "- Spotipy (``pip install spotipy``) >= 2.21\n",
    "- NumPy\n",
    "- Pandas"
   ]
  },
  {
   "cell_type": "markdown",
   "metadata": {},
   "source": [
    "## Initialisation"
   ]
  },
  {
   "cell_type": "code",
   "execution_count": 1,
   "metadata": {},
   "outputs": [],
   "source": [
    "import os\n",
    "import re\n",
    "import json\n",
    "import numpy as np\n",
    "import pandas as pd\n",
    "import spotipy\n",
    "from spotipy.oauth2 import SpotifyClientCredentials\n"
   ]
  },
  {
   "cell_type": "markdown",
   "metadata": {},
   "source": [
    "## Importing my streaming history\n",
    "The core dataset for this project - the user's streaming history - can be downloaded from the Spotify Account/Privacy page ([here](https://www.spotify.com/uk/account/privacy/)). It'll take a while to arrive, but when it does you'll have a folder containing a whole host of json files. Of interest for this project are those named ``StreamingHistory[x].json`` - these contain:\n",
    "- Artist Name - The name of the Artist\n",
    "- Song Name - The name of the song\n",
    "- endTime - Timestamp that the song finished playing at, ``YYYY-MM-DD HH:MM``\n",
    "- msPlayed - Amount of the song that was played in milliseconds\n",
    "\n",
    "There are multiple files, named from 0 through [n], split up to ease reading.\n",
    "\n",
    "In and of itself this data is interesting, but it can be combined with spotify's catalog to allow for more advanced analysis. The Catalog contains a wide variety of datapoints about each song, including its BPM, dancability, valence and energy. We'll use these traits later to assess my listening habits.\n",
    "\n",
    "Now, let's import all of these StreamingHistory files into a dataframe:"
   ]
  },
  {
   "cell_type": "code",
   "execution_count": 2,
   "metadata": {},
   "outputs": [
    {
     "data": {
      "text/html": [
       "<div>\n",
       "<style scoped>\n",
       "    .dataframe tbody tr th:only-of-type {\n",
       "        vertical-align: middle;\n",
       "    }\n",
       "\n",
       "    .dataframe tbody tr th {\n",
       "        vertical-align: top;\n",
       "    }\n",
       "\n",
       "    .dataframe thead th {\n",
       "        text-align: right;\n",
       "    }\n",
       "</style>\n",
       "<table border=\"1\" class=\"dataframe\">\n",
       "  <thead>\n",
       "    <tr style=\"text-align: right;\">\n",
       "      <th></th>\n",
       "      <th>endTime</th>\n",
       "      <th>artistName</th>\n",
       "      <th>trackName</th>\n",
       "      <th>msPlayed</th>\n",
       "    </tr>\n",
       "  </thead>\n",
       "  <tbody>\n",
       "    <tr>\n",
       "      <th>0</th>\n",
       "      <td>2020-11-30 16:44</td>\n",
       "      <td>Ben Fankhauser</td>\n",
       "      <td>King Of New York</td>\n",
       "      <td>217569</td>\n",
       "    </tr>\n",
       "    <tr>\n",
       "      <th>1</th>\n",
       "      <td>2020-12-01 00:47</td>\n",
       "      <td>Matilda the Musical Original Cast</td>\n",
       "      <td>Quiet</td>\n",
       "      <td>228000</td>\n",
       "    </tr>\n",
       "    <tr>\n",
       "      <th>2</th>\n",
       "      <td>2020-12-01 09:51</td>\n",
       "      <td>Matilda the Musical Original Cast</td>\n",
       "      <td>Quiet</td>\n",
       "      <td>930</td>\n",
       "    </tr>\n",
       "    <tr>\n",
       "      <th>3</th>\n",
       "      <td>2020-12-01 09:52</td>\n",
       "      <td>Andy Grammer</td>\n",
       "      <td>85</td>\n",
       "      <td>351</td>\n",
       "    </tr>\n",
       "    <tr>\n",
       "      <th>4</th>\n",
       "      <td>2020-12-01 09:52</td>\n",
       "      <td>Bridgit Mendler</td>\n",
       "      <td>Snap My Fingers</td>\n",
       "      <td>264</td>\n",
       "    </tr>\n",
       "    <tr>\n",
       "      <th>...</th>\n",
       "      <td>...</td>\n",
       "      <td>...</td>\n",
       "      <td>...</td>\n",
       "      <td>...</td>\n",
       "    </tr>\n",
       "    <tr>\n",
       "      <th>5997</th>\n",
       "      <td>2021-12-01 23:05</td>\n",
       "      <td>Maisie Peters</td>\n",
       "      <td>Sad Girl Summer</td>\n",
       "      <td>805</td>\n",
       "    </tr>\n",
       "    <tr>\n",
       "      <th>5998</th>\n",
       "      <td>2021-12-01 23:05</td>\n",
       "      <td>Dizzee Rascal</td>\n",
       "      <td>Bonkers</td>\n",
       "      <td>174552</td>\n",
       "    </tr>\n",
       "    <tr>\n",
       "      <th>5999</th>\n",
       "      <td>2021-12-01 23:05</td>\n",
       "      <td>Original Broadway Cast Of Matilda The Musical</td>\n",
       "      <td>When I Grow up (feat. Lauren Ward &amp; Bailey Ryon)</td>\n",
       "      <td>530</td>\n",
       "    </tr>\n",
       "    <tr>\n",
       "      <th>6000</th>\n",
       "      <td>2021-12-01 23:05</td>\n",
       "      <td>Joan Jett &amp; The Blackhearts</td>\n",
       "      <td>I Love Rock 'N Roll</td>\n",
       "      <td>0</td>\n",
       "    </tr>\n",
       "    <tr>\n",
       "      <th>6001</th>\n",
       "      <td>2021-12-01 23:05</td>\n",
       "      <td>Netta</td>\n",
       "      <td>Bassa Sababa</td>\n",
       "      <td>862</td>\n",
       "    </tr>\n",
       "  </tbody>\n",
       "</table>\n",
       "<p>26002 rows × 4 columns</p>\n",
       "</div>"
      ],
      "text/plain": [
       "               endTime                                     artistName  \\\n",
       "0     2020-11-30 16:44                                 Ben Fankhauser   \n",
       "1     2020-12-01 00:47              Matilda the Musical Original Cast   \n",
       "2     2020-12-01 09:51              Matilda the Musical Original Cast   \n",
       "3     2020-12-01 09:52                                   Andy Grammer   \n",
       "4     2020-12-01 09:52                                Bridgit Mendler   \n",
       "...                ...                                            ...   \n",
       "5997  2021-12-01 23:05                                  Maisie Peters   \n",
       "5998  2021-12-01 23:05                                  Dizzee Rascal   \n",
       "5999  2021-12-01 23:05  Original Broadway Cast Of Matilda The Musical   \n",
       "6000  2021-12-01 23:05                    Joan Jett & The Blackhearts   \n",
       "6001  2021-12-01 23:05                                          Netta   \n",
       "\n",
       "                                             trackName  msPlayed  \n",
       "0                                     King Of New York    217569  \n",
       "1                                                Quiet    228000  \n",
       "2                                                Quiet       930  \n",
       "3                                                   85       351  \n",
       "4                                      Snap My Fingers       264  \n",
       "...                                                ...       ...  \n",
       "5997                                   Sad Girl Summer       805  \n",
       "5998                                           Bonkers    174552  \n",
       "5999  When I Grow up (feat. Lauren Ward & Bailey Ryon)       530  \n",
       "6000                               I Love Rock 'N Roll         0  \n",
       "6001                                      Bassa Sababa       862  \n",
       "\n",
       "[26002 rows x 4 columns]"
      ]
     },
     "execution_count": 2,
     "metadata": {},
     "output_type": "execute_result"
    }
   ],
   "source": [
    "dataPath = \"./data/2021/\"\n",
    "# has to be filtered to remove the .ipynb_checkpoint files that sometimes appear\n",
    "fileList = list(filter(lambda path: \"json\" in path, os.listdir(dataPath)))\n",
    "frames = []\n",
    "for path in fileList:\n",
    "    content = pd.read_json(dataPath + path)\n",
    "    frames.append(content)\n",
    "history = pd.concat(frames)\n",
    "history\n"
   ]
  },
  {
   "cell_type": "markdown",
   "metadata": {},
   "source": [
    "This gives us a dataframe with ~26000 entries - i.e. a record of 26000 streams by this user, which should be quite enough for this project."
   ]
  },
  {
   "cell_type": "markdown",
   "metadata": {},
   "source": [
    "## Adding Details about each song\n",
    "Let's use *spotipy* to get some extra info about each song. API requests are slow and expensive, so we want to reduce them to a minimum where possible. Quite a lot of the songs in the ``history`` dataframe are duplicate, so let's filter it down to remove any duplicates"
   ]
  },
  {
   "cell_type": "code",
   "execution_count": null,
   "metadata": {},
   "outputs": [],
   "source": []
  },
  {
   "cell_type": "code",
   "execution_count": 3,
   "metadata": {},
   "outputs": [
    {
     "data": {
      "text/html": [
       "<div>\n",
       "<style scoped>\n",
       "    .dataframe tbody tr th:only-of-type {\n",
       "        vertical-align: middle;\n",
       "    }\n",
       "\n",
       "    .dataframe tbody tr th {\n",
       "        vertical-align: top;\n",
       "    }\n",
       "\n",
       "    .dataframe thead th {\n",
       "        text-align: right;\n",
       "    }\n",
       "</style>\n",
       "<table border=\"1\" class=\"dataframe\">\n",
       "  <thead>\n",
       "    <tr style=\"text-align: right;\">\n",
       "      <th></th>\n",
       "      <th>endTime</th>\n",
       "      <th>artistName</th>\n",
       "      <th>trackName</th>\n",
       "      <th>msPlayed</th>\n",
       "    </tr>\n",
       "  </thead>\n",
       "  <tbody>\n",
       "    <tr>\n",
       "      <th>0</th>\n",
       "      <td>2020-11-30 16:44</td>\n",
       "      <td>Ben Fankhauser</td>\n",
       "      <td>King Of New York</td>\n",
       "      <td>217569</td>\n",
       "    </tr>\n",
       "    <tr>\n",
       "      <th>1</th>\n",
       "      <td>2020-12-01 00:47</td>\n",
       "      <td>Matilda the Musical Original Cast</td>\n",
       "      <td>Quiet</td>\n",
       "      <td>228000</td>\n",
       "    </tr>\n",
       "    <tr>\n",
       "      <th>3</th>\n",
       "      <td>2020-12-01 09:52</td>\n",
       "      <td>Andy Grammer</td>\n",
       "      <td>85</td>\n",
       "      <td>351</td>\n",
       "    </tr>\n",
       "    <tr>\n",
       "      <th>4</th>\n",
       "      <td>2020-12-01 09:52</td>\n",
       "      <td>Bridgit Mendler</td>\n",
       "      <td>Snap My Fingers</td>\n",
       "      <td>264</td>\n",
       "    </tr>\n",
       "    <tr>\n",
       "      <th>5</th>\n",
       "      <td>2020-12-01 09:52</td>\n",
       "      <td>Nikki Blonsky</td>\n",
       "      <td>Good Morning Baltimore</td>\n",
       "      <td>12996</td>\n",
       "    </tr>\n",
       "    <tr>\n",
       "      <th>...</th>\n",
       "      <td>...</td>\n",
       "      <td>...</td>\n",
       "      <td>...</td>\n",
       "      <td>...</td>\n",
       "    </tr>\n",
       "    <tr>\n",
       "      <th>5770</th>\n",
       "      <td>2021-11-29 13:35</td>\n",
       "      <td>Klaus Badelt</td>\n",
       "      <td>He's a Pirate</td>\n",
       "      <td>90426</td>\n",
       "    </tr>\n",
       "    <tr>\n",
       "      <th>5771</th>\n",
       "      <td>2021-11-29 13:38</td>\n",
       "      <td>Marc Streitenfeld</td>\n",
       "      <td>Walter's Burial</td>\n",
       "      <td>184826</td>\n",
       "    </tr>\n",
       "    <tr>\n",
       "      <th>5772</th>\n",
       "      <td>2021-11-29 13:54</td>\n",
       "      <td>James Newton Howard</td>\n",
       "      <td>Your Mother Loves You</td>\n",
       "      <td>119356</td>\n",
       "    </tr>\n",
       "    <tr>\n",
       "      <th>5933</th>\n",
       "      <td>2021-11-30 20:34</td>\n",
       "      <td>David Bowie</td>\n",
       "      <td>Heroes - 2017 Remaster</td>\n",
       "      <td>4882</td>\n",
       "    </tr>\n",
       "    <tr>\n",
       "      <th>5948</th>\n",
       "      <td>2021-11-30 22:15</td>\n",
       "      <td>Dizzee Rascal</td>\n",
       "      <td>Bonkers</td>\n",
       "      <td>177573</td>\n",
       "    </tr>\n",
       "  </tbody>\n",
       "</table>\n",
       "<p>5185 rows × 4 columns</p>\n",
       "</div>"
      ],
      "text/plain": [
       "               endTime                         artistName  \\\n",
       "0     2020-11-30 16:44                     Ben Fankhauser   \n",
       "1     2020-12-01 00:47  Matilda the Musical Original Cast   \n",
       "3     2020-12-01 09:52                       Andy Grammer   \n",
       "4     2020-12-01 09:52                    Bridgit Mendler   \n",
       "5     2020-12-01 09:52                      Nikki Blonsky   \n",
       "...                ...                                ...   \n",
       "5770  2021-11-29 13:35                       Klaus Badelt   \n",
       "5771  2021-11-29 13:38                  Marc Streitenfeld   \n",
       "5772  2021-11-29 13:54                James Newton Howard   \n",
       "5933  2021-11-30 20:34                        David Bowie   \n",
       "5948  2021-11-30 22:15                      Dizzee Rascal   \n",
       "\n",
       "                   trackName  msPlayed  \n",
       "0           King Of New York    217569  \n",
       "1                      Quiet    228000  \n",
       "3                         85       351  \n",
       "4            Snap My Fingers       264  \n",
       "5     Good Morning Baltimore     12996  \n",
       "...                      ...       ...  \n",
       "5770           He's a Pirate     90426  \n",
       "5771         Walter's Burial    184826  \n",
       "5772   Your Mother Loves You    119356  \n",
       "5933  Heroes - 2017 Remaster      4882  \n",
       "5948                 Bonkers    177573  \n",
       "\n",
       "[5185 rows x 4 columns]"
      ]
     },
     "execution_count": 3,
     "metadata": {},
     "output_type": "execute_result"
    }
   ],
   "source": [
    "unique = history.drop_duplicates(\n",
    "    subset=['artistName', 'trackName'], keep=\"first\")\n",
    "unique"
   ]
  },
  {
   "cell_type": "markdown",
   "metadata": {},
   "source": [
    "We now have 5185 rows, which seems like about the right number of unique tracks  for this period.\n",
    "\n",
    "Now, let's initialise spotipy"
   ]
  },
  {
   "cell_type": "code",
   "execution_count": 4,
   "metadata": {},
   "outputs": [],
   "source": [
    "SPOTIPY_CLIENT_ID = \"c87d94fc86754ae4bb478a50402a3254\"\n",
    "SPOTIPY_CLIENT_SECRET = \"1739de3f5fe14e74b8e6c61eb1c9069c\"\n",
    "\n",
    "auth_manager = SpotifyClientCredentials(client_id= SPOTIPY_CLIENT_ID, client_secret=SPOTIPY_CLIENT_SECRET)\n",
    "sp = spotipy.Spotify(auth_manager=auth_manager)"
   ]
  },
  {
   "cell_type": "code",
   "execution_count": 5,
   "metadata": {
    "tags": []
   },
   "outputs": [
    {
     "data": {
      "text/plain": [
       "{'album': {'album_type': 'album',\n",
       "  'artists': [{'external_urls': {'spotify': 'https://open.spotify.com/artist/2RVvqRBon9NgaGXKfywDSs'},\n",
       "    'href': 'https://api.spotify.com/v1/artists/2RVvqRBon9NgaGXKfywDSs',\n",
       "    'id': '2RVvqRBon9NgaGXKfywDSs',\n",
       "    'name': 'Maisie Peters',\n",
       "    'type': 'artist',\n",
       "    'uri': 'spotify:artist:2RVvqRBon9NgaGXKfywDSs'}],\n",
       "  'external_urls': {'spotify': 'https://open.spotify.com/album/1X1EZB1hCoymZ9gU8JKv86'},\n",
       "  'href': 'https://api.spotify.com/v1/albums/1X1EZB1hCoymZ9gU8JKv86',\n",
       "  'id': '1X1EZB1hCoymZ9gU8JKv86',\n",
       "  'images': [{'height': 640,\n",
       "    'url': 'https://i.scdn.co/image/ab67616d0000b273084229044ca0f2f9f43584cc',\n",
       "    'width': 640},\n",
       "   {'height': 300,\n",
       "    'url': 'https://i.scdn.co/image/ab67616d00001e02084229044ca0f2f9f43584cc',\n",
       "    'width': 300},\n",
       "   {'height': 64,\n",
       "    'url': 'https://i.scdn.co/image/ab67616d00004851084229044ca0f2f9f43584cc',\n",
       "    'width': 64}],\n",
       "  'name': 'You Signed Up For This',\n",
       "  'release_date': '2021-08-27',\n",
       "  'release_date_precision': 'day',\n",
       "  'total_tracks': 14,\n",
       "  'type': 'album',\n",
       "  'uri': 'spotify:album:1X1EZB1hCoymZ9gU8JKv86'},\n",
       " 'artists': [{'external_urls': {'spotify': 'https://open.spotify.com/artist/2RVvqRBon9NgaGXKfywDSs'},\n",
       "   'href': 'https://api.spotify.com/v1/artists/2RVvqRBon9NgaGXKfywDSs',\n",
       "   'id': '2RVvqRBon9NgaGXKfywDSs',\n",
       "   'name': 'Maisie Peters',\n",
       "   'type': 'artist',\n",
       "   'uri': 'spotify:artist:2RVvqRBon9NgaGXKfywDSs'}],\n",
       " 'disc_number': 1,\n",
       " 'duration_ms': 163946,\n",
       " 'explicit': True,\n",
       " 'external_ids': {'isrc': 'GBAHS2100354'},\n",
       " 'external_urls': {'spotify': 'https://open.spotify.com/track/7Fjs7JsEuGMnNgp87RbtkQ'},\n",
       " 'href': 'https://api.spotify.com/v1/tracks/7Fjs7JsEuGMnNgp87RbtkQ',\n",
       " 'id': '7Fjs7JsEuGMnNgp87RbtkQ',\n",
       " 'is_local': False,\n",
       " 'is_playable': True,\n",
       " 'name': 'I’m Trying (Not Friends)',\n",
       " 'popularity': 61,\n",
       " 'preview_url': 'https://p.scdn.co/mp3-preview/325ede21134d0bf01b8b29bc5057ce34b58f2e58?cid=c87d94fc86754ae4bb478a50402a3254',\n",
       " 'track_number': 2,\n",
       " 'type': 'track',\n",
       " 'uri': 'spotify:track:7Fjs7JsEuGMnNgp87RbtkQ'}"
      ]
     },
     "execution_count": 5,
     "metadata": {},
     "output_type": "execute_result"
    }
   ],
   "source": [
    "mp = sp.search(\"Maisie Peters\", type=\"artist\")\n",
    "mp['artists']['items'][0]['uri']\n",
    "trying = sp.search(\"Maisie Peters I'm Trying (Not Friends)\", type=\"track\", market=\"GB\", limit=1)\n",
    "trying['tracks']['items'][0]"
   ]
  },
  {
   "cell_type": "markdown",
   "metadata": {},
   "source": [
    "Let's test it"
   ]
  },
  {
   "cell_type": "markdown",
   "metadata": {},
   "source": [
    "Looking in the Spotify app, we see that Maisie Peter's URI is spotify:artist:2RVvqRBon9NgaGXKfywDSs, which matches with what the API just gave us.\n",
    "\n",
    "Doing this for a track returns lots of details about each song; for this project i've selected the following as 'interesting':\n",
    "- release-date\n",
    "- duration_ms\n",
    "- explicit\n",
    "- popularity\n",
    "- uri\n",
    "Now, let's go through the entire `unique` dataframe and add track details. the search can return multiple tracks, but let's assume whatever one comes back first is the correct one - we can test that later if we need to.\n"
   ]
  },
  {
   "cell_type": "code",
   "execution_count": 15,
   "metadata": {},
   "outputs": [
    {
     "data": {
      "text/plain": [
       "{'name': 'You Signed Up For This',\n",
       " 'release_date': '2021-08-27',\n",
       " 'duration_ms': 195133,\n",
       " 'explicit': False,\n",
       " 'popularity': 53,\n",
       " 'uri': 'spotify:track:1xZyqMoN55Rd5WD8cHSva8'}"
      ]
     },
     "execution_count": 17,
     "metadata": {},
     "output_type": "execute_result"
    }
   ],
   "source": [
    "def getSongDetails(artist, track):\n",
    "    searchRequest = f\"{artist} {track}\"\n",
    "    results = sp.search(searchRequest, type=\"track\", market=\"GB\")\n",
    "    items = results['tracks']['items']\n",
    "    if len(items) != 1:\n",
    "        results\n",
    "    return {\n",
    "        \"name\": items[0]['name'],\n",
    "        \"release_date\" : items[0]['album']['release_date'],\n",
    "        \"duration_ms\" : items[0]['duration_ms'],\n",
    "        \"explicit\" : items[0]['explicit'],\n",
    "        \"popularity\" : items[0]['popularity'],\n",
    "        \"uri\" : items[0]['uri']\n",
    "    }\n",
    "    \n",
    "getSongDetails(\"Maisie Peter\", \"You Signed Up For This\")\n"
   ]
  },
  {
   "cell_type": "markdown",
   "metadata": {},
   "source": [
    "This function appears to be working correctly, so let's deploy it with the full \n"
   ]
  },
  {
   "cell_type": "code",
   "execution_count": 20,
   "metadata": {
    "tags": []
   },
   "outputs": [
    {
     "name": "stderr",
     "output_type": "stream",
     "text": [
      "C:\\Users\\arbea\\AppData\\Local\\Temp\\ipykernel_14076\\1000638593.py:3: SettingWithCopyWarning: \n",
      "A value is trying to be set on a copy of a slice from a DataFrame.\n",
      "Try using .loc[row_indexer,col_indexer] = value instead\n",
      "\n",
      "See the caveats in the documentation: https://pandas.pydata.org/pandas-docs/stable/user_guide/indexing.html#returning-a-view-versus-a-copy\n",
      "  detail_unique['name','release_date', 'duration_ms', 'explicit', 'popularity', 'uri'] =  detail_unique.apply(lambda row: getSongDetails(row['artistName'], row['trackName']).values(), axis = 1)\n"
     ]
    },
    {
     "data": {
      "text/html": [
       "<div>\n",
       "<style scoped>\n",
       "    .dataframe tbody tr th:only-of-type {\n",
       "        vertical-align: middle;\n",
       "    }\n",
       "\n",
       "    .dataframe tbody tr th {\n",
       "        vertical-align: top;\n",
       "    }\n",
       "\n",
       "    .dataframe thead th {\n",
       "        text-align: right;\n",
       "    }\n",
       "</style>\n",
       "<table border=\"1\" class=\"dataframe\">\n",
       "  <thead>\n",
       "    <tr style=\"text-align: right;\">\n",
       "      <th></th>\n",
       "      <th>endTime</th>\n",
       "      <th>artistName</th>\n",
       "      <th>trackName</th>\n",
       "      <th>msPlayed</th>\n",
       "      <th>(name, release_date, duration_ms, explicit, popularity, uri)</th>\n",
       "    </tr>\n",
       "  </thead>\n",
       "  <tbody>\n",
       "    <tr>\n",
       "      <th>0</th>\n",
       "      <td>2020-11-30 16:44</td>\n",
       "      <td>Ben Fankhauser</td>\n",
       "      <td>King Of New York</td>\n",
       "      <td>217569</td>\n",
       "      <td>(King Of New York, 2012-04-10, 249275, False, ...</td>\n",
       "    </tr>\n",
       "    <tr>\n",
       "      <th>1</th>\n",
       "      <td>2020-12-01 00:47</td>\n",
       "      <td>Matilda the Musical Original Cast</td>\n",
       "      <td>Quiet</td>\n",
       "      <td>228000</td>\n",
       "      <td>(Quiet, 2011-10-13, 228000, False, 45, spotify...</td>\n",
       "    </tr>\n",
       "  </tbody>\n",
       "</table>\n",
       "</div>"
      ],
      "text/plain": [
       "            endTime                         artistName         trackName  \\\n",
       "0  2020-11-30 16:44                     Ben Fankhauser  King Of New York   \n",
       "1  2020-12-01 00:47  Matilda the Musical Original Cast             Quiet   \n",
       "\n",
       "   msPlayed (name, release_date, duration_ms, explicit, popularity, uri)  \n",
       "0    217569  (King Of New York, 2012-04-10, 249275, False, ...            \n",
       "1    228000  (Quiet, 2011-10-13, 228000, False, 45, spotify...            "
      ]
     },
     "execution_count": 21,
     "metadata": {},
     "output_type": "execute_result"
    }
   ],
   "source": [
    "detail_unique = unique.head(2)\n",
    "detail_unique\n",
    "detail_unique[['name','release_date', 'duration_ms', 'explicit', 'popularity', 'uri']] =  detail_unique.apply(lambda row: getSongDetails(row['artistName'], row['trackName']).values(), axis = 1)\n",
    "detail_unique"
   ]
  },
  {
   "cell_type": "code",
   "execution_count": null,
   "metadata": {},
   "outputs": [],
   "source": []
  },
  {
   "cell_type": "code",
   "execution_count": null,
   "metadata": {},
   "outputs": [],
   "source": []
  }
 ],
 "metadata": {
  "kernelspec": {
   "display_name": "Python 3 (ipykernel)",
   "language": "python",
   "name": "python3"
  },
  "language_info": {
   "codemirror_mode": {
    "name": "ipython",
    "version": 3
   },
   "file_extension": ".py",
   "mimetype": "text/x-python",
   "name": "python",
   "nbconvert_exporter": "python",
   "pygments_lexer": "ipython3",
   "version": "3.11.0"
  },
  "vscode": {
   "interpreter": {
    "hash": "34b670c45eb6fde3d9a6b042c7794d6c443a8b570baba8e8c41ccb446060b112"
   }
  }
 },
 "nbformat": 4,
 "nbformat_minor": 4
}
